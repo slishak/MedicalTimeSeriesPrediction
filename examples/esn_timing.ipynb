{
 "cells": [
  {
   "cell_type": "code",
   "execution_count": null,
   "metadata": {},
   "outputs": [],
   "source": [
    "from itertools import product\n",
    "\n",
    "import torch\n",
    "import plotly.io as pio\n",
    "import plotly.express as px\n",
    "from plotly import graph_objects as go\n",
    "import pandas as pd\n",
    "import numpy as np\n",
    "import statsmodels.api as sm\n",
    "\n",
    "from time_series_prediction import settings, utils\n",
    "\n",
    "pio.templates.default = 'plotly_white'"
   ]
  },
  {
   "cell_type": "code",
   "execution_count": null,
   "metadata": {},
   "outputs": [],
   "source": [
    "n_neurons = np.array([100, 200, 500, 1000, 1500, 2000, 2500, 3000, 3500, 4000])\n",
    "n_neurons"
   ]
  },
  {
   "cell_type": "code",
   "execution_count": null,
   "metadata": {},
   "outputs": [],
   "source": [
    "n_ensemble = 5\n",
    "\n",
    "kwargs_default = {\n",
    "    'spectral_radius': 0.99,\n",
    "    'leaking_rate': 0.1,\n",
    "    'k_l2': 1,\n",
    "}\n",
    "\n",
    "params = [\n",
    "    ('n_neurons', n_neurons)\n",
    "]\n",
    "keys, vals = zip(*params)\n",
    "param_dicts = []\n",
    "for val in product(*vals):\n",
    "    param_dicts.append({k: v for k, v in zip(keys, val)})\n",
    "print(f'{len(param_dicts)} simulations')"
   ]
  },
  {
   "cell_type": "code",
   "execution_count": null,
   "metadata": {},
   "outputs": [],
   "source": [
    "settings.switch_device('cpu')\n",
    "\n",
    "sweep = utils.SweepESN(\n",
    "    param_dicts,\n",
    "    kwargs_default,\n",
    "    n_ensemble,\n",
    "    noise=2e-5,\n",
    "    source='lorenz',\n",
    ")\n",
    "\n",
    "timing_list = []\n",
    "for d in sweep.param_dicts:\n",
    "    esn_kwargs = sweep.esn_kwargs | d\n",
    "    t = sweep.run_ensemble(esn_kwargs, return_timing=True)[-1]\n",
    "    timing_list.append(t)\n",
    "    print(d['n_neurons'], np.mean(t, axis=0))\n",
    "\n",
    "timing_arr_cpu = np.array(timing_list)"
   ]
  },
  {
   "cell_type": "code",
   "execution_count": null,
   "metadata": {},
   "outputs": [],
   "source": [
    "settings.switch_device('cuda')\n",
    "\n",
    "sweep_2 = utils.SweepESN(\n",
    "    param_dicts,\n",
    "    kwargs_default,\n",
    "    n_ensemble,\n",
    "    noise=2e-5,\n",
    "    source='lorenz',\n",
    ")\n",
    "\n",
    "timing_list = []\n",
    "for d in sweep_2.param_dicts:\n",
    "    esn_kwargs = sweep_2.esn_kwargs | d\n",
    "    t = sweep_2.run_ensemble(esn_kwargs, return_timing=True)[-1]\n",
    "    timing_list.append(t)\n",
    "    print(d['n_neurons'], np.mean(t, axis=0))\n",
    "\n",
    "timing_arr_gpu = np.array(timing_list)"
   ]
  },
  {
   "cell_type": "code",
   "execution_count": null,
   "metadata": {},
   "outputs": [],
   "source": [
    "timing_arr_cpu_mod = timing_arr_cpu.copy()\n",
    "timing_arr_cpu_mod[..., 2] -= timing_arr_cpu_mod[..., 1]\n",
    "timing_arr_cpu_mod[..., 1] -= timing_arr_cpu_mod[..., 0]\n",
    "\n",
    "timing_arr_gpu_mod = timing_arr_gpu.copy()\n",
    "timing_arr_gpu_mod[..., 2] -= timing_arr_gpu_mod[..., 1]\n",
    "timing_arr_gpu_mod[..., 1] -= timing_arr_gpu_mod[..., 0]"
   ]
  },
  {
   "cell_type": "code",
   "execution_count": null,
   "metadata": {},
   "outputs": [],
   "source": [
    "fig = go.Figure()\n",
    "colorway = pio.templates['plotly_white'].layout.colorway\n",
    "timing_info = [\n",
    "    (1, 'generation', 'dash'),\n",
    "    (0, 'training', 'dot'),\n",
    "    (2, 'testing', None),\n",
    "]\n",
    "for i, name, dash in timing_info:\n",
    "    fig.add_scatter(\n",
    "        x=n_neurons,\n",
    "        y=timing_arr_cpu_mod[..., i].mean(axis=1),\n",
    "        line_color=colorway[0],\n",
    "        line_dash=dash,\n",
    "        error_y = {\n",
    "            'type': 'data',\n",
    "            'symmetric': False,\n",
    "            'array': timing_arr_cpu_mod[..., i].max(axis=1) - timing_arr_cpu_mod[..., i].mean(axis=1),\n",
    "            'arrayminus': timing_arr_cpu_mod[..., i].mean(axis=1) - timing_arr_cpu_mod[..., i].min(axis=1),\n",
    "        },\n",
    "        name=f'CPU, {name}',\n",
    "    )\n",
    "    fig.add_scatter(\n",
    "        x=n_neurons,\n",
    "        y=timing_arr_gpu_mod[..., i].mean(axis=1),\n",
    "        line_color=colorway[1],\n",
    "        line_dash=dash,\n",
    "        error_y = {\n",
    "            'type': 'data',\n",
    "            'symmetric': False,\n",
    "            'array': timing_arr_gpu_mod[..., i].max(axis=1) - timing_arr_gpu_mod[..., i].mean(axis=1),\n",
    "            'arrayminus': timing_arr_gpu_mod[..., i].mean(axis=1) - timing_arr_gpu_mod[..., i].min(axis=1),\n",
    "        },\n",
    "        name=f'GPU, {name}',\n",
    "    )\n",
    "fig.update_xaxes(title_text='N')\n",
    "fig.update_yaxes(title_text='Computation time (s)')\n",
    "fig.update_layout(height=600)\n",
    "fig"
   ]
  },
  {
   "cell_type": "code",
   "execution_count": null,
   "metadata": {},
   "outputs": [],
   "source": [
    "y = timing_arr_cpu_mod[..., 0].mean(axis=1)\n",
    "x = sm.add_constant(np.stack([n_neurons, n_neurons**2, n_neurons**3]).T)\n",
    "mod = sm.OLS(y, x)\n",
    "res = mod.fit()\n",
    "res.summary()"
   ]
  }
 ],
 "metadata": {
  "kernelspec": {
   "display_name": "Python 3.9.6 64-bit",
   "language": "python",
   "name": "python3"
  },
  "language_info": {
   "codemirror_mode": {
    "name": "ipython",
    "version": 3
   },
   "file_extension": ".py",
   "mimetype": "text/x-python",
   "name": "python",
   "nbconvert_exporter": "python",
   "pygments_lexer": "ipython3",
   "version": "3.9.6"
  },
  "orig_nbformat": 4,
  "vscode": {
   "interpreter": {
    "hash": "57ab650755106788127778ca676b1d597fe3fd74372f745f5eeb1dc0c5eefa13"
   }
  }
 },
 "nbformat": 4,
 "nbformat_minor": 2
}
