{
 "cells": [
  {
   "cell_type": "code",
   "execution_count": null,
   "metadata": {},
   "outputs": [],
   "source": [
    "import torch\n",
    "import plotly.io as pio\n",
    "import pickle as pkl\n",
    "\n",
    "from time_series_prediction import settings, utils\n",
    "\n",
    "pio.templates.default = 'plotly_white'"
   ]
  },
  {
   "cell_type": "code",
   "execution_count": null,
   "metadata": {},
   "outputs": [],
   "source": [
    "# settings.switch_device('cuda')\n",
    "settings.device == torch.device('cpu')"
   ]
  },
  {
   "cell_type": "code",
   "execution_count": null,
   "metadata": {},
   "outputs": [],
   "source": [
    "hidden_layers = [6, 10, 6]"
   ]
  },
  {
   "cell_type": "code",
   "execution_count": null,
   "metadata": {},
   "outputs": [],
   "source": [
    "lorenz = utils.SweepEnKF(\n",
    "    'lorenz', \n",
    "    'activation_function', \n",
    "    ['ReLU', 'ReLU', 'ELU', 'ELU', 'Tanh', 'Tanh'], \n",
    "    train_sweep=False,\n",
    "    noise=5e-2,\n",
    "    hidden_layers=hidden_layers,\n",
    "    train_kwargs={'lr_hold': 10, 'subseq_len': 50},\n",
    ")"
   ]
  },
  {
   "cell_type": "code",
   "execution_count": null,
   "metadata": {},
   "outputs": [],
   "source": [
    "lorenz.train(100)"
   ]
  },
  {
   "cell_type": "code",
   "execution_count": null,
   "metadata": {},
   "outputs": [],
   "source": [
    "from plotly import colors\n",
    "import numpy as np\n",
    "c = colors.sample_colorscale(\n",
    "    colors.get_colorscale('Plasma'), \n",
    "    np.linspace(0, 0.9, 3),\n",
    ")\n",
    "c_dict = {\n",
    "    'activation_function=ReLU': c[0],\n",
    "    'activation_function=ELU': c[1],\n",
    "    'activation_function=Tanh': c[2],\n",
    "}\n",
    "lorenz.train_fig.for_each_trace(\n",
    "    lambda trace: trace.update(line_color=c_dict[trace.legendgroup])\n",
    ")"
   ]
  },
  {
   "cell_type": "code",
   "execution_count": null,
   "metadata": {},
   "outputs": [],
   "source": [
    "lorenz.plot_test(0).update_yaxes(\n",
    "    row=1, col=1, title_text='x',\n",
    ").update_yaxes(\n",
    "    row=2, col=1, title_text='y',\n",
    ").update_yaxes(\n",
    "    row=3, col=1, title_text='z',\n",
    ").update_xaxes(\n",
    "    col=1, title_text='',\n",
    ").update_xaxes(\n",
    "    col=1, row=5, title_text='t',\n",
    ")"
   ]
  },
  {
   "cell_type": "code",
   "execution_count": null,
   "metadata": {},
   "outputs": [],
   "source": [
    "\n",
    "err_lorenz = []\n",
    "with torch.no_grad():\n",
    "    for i in range(20):\n",
    "        _, _, _, _, mse_lyap_lorenz, mae_lyap_lorenz = lorenz.enkf_err(0)\n",
    "        err_lorenz.append(mae_lyap_lorenz)\n",
    "    err_lorenz = torch.stack(err_lorenz)\n",
    "err_lorenz.mean(axis=0)"
   ]
  },
  {
   "cell_type": "code",
   "execution_count": null,
   "metadata": {},
   "outputs": [],
   "source": [
    "rossler = utils.SweepEnKF(\n",
    "    'rossler', \n",
    "    'activation_function', \n",
    "    ['ReLU', 'ReLU', 'ELU', 'ELU', 'Tanh', 'Tanh'], \n",
    "    train_sweep=False,\n",
    "    noise=5e-2,\n",
    "    hidden_layers=hidden_layers,\n",
    "    train_kwargs={'lr_hold': 10, 'subseq_len': 50},\n",
    ")\n"
   ]
  },
  {
   "cell_type": "code",
   "execution_count": null,
   "metadata": {},
   "outputs": [],
   "source": [
    "rossler.train(100)"
   ]
  },
  {
   "cell_type": "code",
   "execution_count": null,
   "metadata": {},
   "outputs": [],
   "source": [
    "c = colors.sample_colorscale(\n",
    "    colors.get_colorscale('Plasma'), \n",
    "    np.linspace(0, 0.9, 3),\n",
    ")\n",
    "c_dict = {\n",
    "    'activation_function=ReLU': c[0],\n",
    "    'activation_function=ELU': c[1],\n",
    "    'activation_function=Tanh': c[2],\n",
    "}\n",
    "rossler.train_fig.for_each_trace(\n",
    "    lambda trace: trace.update(line_color=c_dict[trace.legendgroup])\n",
    ")"
   ]
  },
  {
   "cell_type": "code",
   "execution_count": null,
   "metadata": {},
   "outputs": [],
   "source": [
    "rossler.plot_test(0).update_yaxes(\n",
    "    row=1, col=1, title_text='x',\n",
    ").update_yaxes(\n",
    "    row=2, col=1, title_text='y',\n",
    ").update_yaxes(\n",
    "    row=3, col=1, title_text='z',\n",
    ").update_xaxes(\n",
    "    col=1, title_text='',\n",
    ").update_xaxes(\n",
    "    col=1, row=5, title_text='t',\n",
    ")"
   ]
  },
  {
   "cell_type": "code",
   "execution_count": null,
   "metadata": {},
   "outputs": [],
   "source": [
    "\n",
    "err_rossler = []\n",
    "with torch.no_grad():\n",
    "    for i in range(20):\n",
    "        _, _, _, _, mse_lyap_r, mae_lyap_r = lorenz.enkf_err(0)\n",
    "        err_rossler.append(mae_lyap_r)\n",
    "    err_rossler = torch.stack(err_rossler)\n",
    "err_rossler.mean(axis=0)"
   ]
  },
  {
   "cell_type": "code",
   "execution_count": null,
   "metadata": {},
   "outputs": [],
   "source": [
    "vdp = utils.SweepEnKF(\n",
    "    'vdp', \n",
    "    'activation_function', \n",
    "    ['ReLU', 'ReLU', 'ELU', 'ELU', 'Tanh', 'Tanh'], \n",
    "    train_sweep=False,\n",
    "    noise=5e-2,\n",
    "    hidden_layers=hidden_layers,\n",
    "    train_kwargs={'lr_hold': 10, 'subseq_len': 50},\n",
    "    additional_states=4,\n",
    ")"
   ]
  },
  {
   "cell_type": "code",
   "execution_count": null,
   "metadata": {},
   "outputs": [],
   "source": [
    "vdp.train(100)"
   ]
  },
  {
   "cell_type": "code",
   "execution_count": null,
   "metadata": {},
   "outputs": [],
   "source": [
    "from plotly import colors\n",
    "import numpy as np\n",
    "c = colors.sample_colorscale(\n",
    "    colors.get_colorscale('Plasma'), \n",
    "    np.linspace(0, 0.9, 3),\n",
    ")\n",
    "c_dict = {\n",
    "    'activation_function=ReLU': c[0],\n",
    "    'activation_function=ELU': c[1],\n",
    "    'activation_function=Tanh': c[2],\n",
    "}\n",
    "vdp.train_fig.for_each_trace(\n",
    "    lambda trace: trace.update(line_color=c_dict[trace.legendgroup])\n",
    ")"
   ]
  },
  {
   "cell_type": "code",
   "execution_count": null,
   "metadata": {},
   "outputs": [],
   "source": [
    "vdp.plot_test(0).update_yaxes(\n",
    "    row=1, col=1, title_text=r'$\\frac{dx}{dt}$',\n",
    ").update_yaxes(\n",
    "    row=2, col=1, title_text='x',\n",
    ").update_yaxes(\n",
    "    row=3, col=1, title_text='$s_1$',\n",
    ").update_yaxes(\n",
    "    row=4, col=1, title_text='$s_2$',\n",
    ").update_xaxes(\n",
    "    title_text='', col=1,\n",
    ").update_xaxes(\n",
    "    title_text='t', row=6, col=1,\n",
    ").write_html('enkf_vdp_best.html', include_mathjax='cdn')"
   ]
  }
 ],
 "metadata": {
  "interpreter": {
   "hash": "57ab650755106788127778ca676b1d597fe3fd74372f745f5eeb1dc0c5eefa13"
  },
  "kernelspec": {
   "display_name": "Python 3.9.6 64-bit",
   "language": "python",
   "name": "python3"
  },
  "language_info": {
   "codemirror_mode": {
    "name": "ipython",
    "version": 3
   },
   "file_extension": ".py",
   "mimetype": "text/x-python",
   "name": "python",
   "nbconvert_exporter": "python",
   "pygments_lexer": "ipython3",
   "version": "3.9.6"
  },
  "orig_nbformat": 4
 },
 "nbformat": 4,
 "nbformat_minor": 2
}
