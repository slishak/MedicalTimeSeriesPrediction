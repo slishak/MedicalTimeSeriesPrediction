{
 "cells": [
  {
   "cell_type": "code",
   "execution_count": null,
   "metadata": {},
   "outputs": [],
   "source": [
    "from itertools import product\n",
    "\n",
    "import torch\n",
    "import plotly.io as pio\n",
    "import plotly.express as px\n",
    "import pandas as pd\n",
    "import numpy as np\n",
    "from dask.distributed import Client\n",
    "\n",
    "from time_series_prediction import settings, utils\n",
    "\n",
    "pio.templates.default = 'plotly_white'"
   ]
  },
  {
   "cell_type": "code",
   "execution_count": null,
   "metadata": {},
   "outputs": [],
   "source": [
    "NOISE = 2e-5\n",
    "# NOISE = 0"
   ]
  },
  {
   "cell_type": "code",
   "execution_count": null,
   "metadata": {},
   "outputs": [],
   "source": [
    "# settings.switch_device('cuda')\n",
    "settings.device == torch.device('cpu')"
   ]
  },
  {
   "cell_type": "code",
   "execution_count": null,
   "metadata": {},
   "outputs": [],
   "source": [
    "params = [\n",
    "    ('k_l2', 10**np.linspace(-2, 1, 5)),\n",
    "    ('source', ['rossler', 'lorenz'])\n",
    "]\n",
    "keys, vals = zip(*params)\n",
    "param_dicts = []\n",
    "for val in product(*vals):\n",
    "    param_dicts.append({k: v for k, v in zip(keys, val)})\n",
    "print(f'{len(param_dicts)} simulations')"
   ]
  },
  {
   "cell_type": "code",
   "execution_count": null,
   "metadata": {},
   "outputs": [],
   "source": [
    "client = Client(n_workers=10, threads_per_worker=1)"
   ]
  },
  {
   "cell_type": "code",
   "execution_count": null,
   "metadata": {},
   "outputs": [],
   "source": [
    "n_ensemble = 30\n",
    "\n",
    "kwargs_default = {\n",
    "    # 'source': 'lorenz',\n",
    "    'spectral_radius': 0.99,\n",
    "    'n_neurons': 1000,\n",
    "    'leaking_rate': 0.1,\n",
    "}\n",
    "\n",
    "sweep = utils.SweepESN(\n",
    "    param_dicts,\n",
    "    kwargs_default,\n",
    "    n_ensemble,\n",
    "    noise=NOISE,\n",
    ")"
   ]
  },
  {
   "cell_type": "code",
   "execution_count": null,
   "metadata": {},
   "outputs": [],
   "source": [
    "sweep.submit_jobs(client)"
   ]
  },
  {
   "cell_type": "code",
   "execution_count": null,
   "metadata": {},
   "outputs": [],
   "source": [
    "res = sweep.get_results()"
   ]
  },
  {
   "cell_type": "code",
   "execution_count": null,
   "metadata": {},
   "outputs": [],
   "source": [
    "client.shutdown()"
   ]
  },
  {
   "cell_type": "code",
   "execution_count": null,
   "metadata": {},
   "outputs": [],
   "source": [
    "df = pd.DataFrame(res)\n",
    "df"
   ]
  },
  {
   "cell_type": "code",
   "execution_count": null,
   "metadata": {},
   "outputs": [],
   "source": [
    "for i in range(10):\n",
    "    err = f'Lyapunov {i}'\n",
    "    df[f'MSE {err}'] = df['MSE Lyapunov'].apply(lambda x: x[:, i] if x is not None else x)\n",
    "    df[f'MAE {err}'] = df['MAE Lyapunov'].apply(lambda x: x[:, i] if x is not None else x)\n",
    "    df[f'Mean MSE {err}'] = df[f'MSE {err}'].apply(lambda x: x.mean() if x is not None else x)\n",
    "    df[f'Mean MAE {err}'] = df[f'MAE {err}'].apply(lambda x: x.mean() if x is not None else x)\n",
    "    df[f'Max MSE {err}'] = df[f'MSE {err}'].apply(lambda x: x.max() if x is not None else x)\n",
    "    df[f'Max MAE {err}'] = df[f'MAE {err}'].apply(lambda x: x.max() if x is not None else x)\n",
    "    df[f'Min MSE {err}'] = df[f'MSE {err}'].apply(lambda x: x.min() if x is not None else x)\n",
    "    df[f'Min MAE {err}'] = df[f'MAE {err}'].apply(lambda x: x.min() if x is not None else x)"
   ]
  },
  {
   "cell_type": "code",
   "execution_count": null,
   "metadata": {},
   "outputs": [],
   "source": [
    "from plotly.subplots import make_subplots\n",
    "from plotly import colors\n",
    "k_l2_vals = np.sort(df['k_l2'].unique())\n",
    "c = colors.sample_colorscale(\n",
    "    colors.get_colorscale('Plasma'),\n",
    "    np.linspace(0, 0.9, len(k_l2_vals)),\n",
    ")\n",
    "row_ax = 'source'\n",
    "row_vals = df[row_ax].unique()\n",
    "fig = make_subplots(rows=len(row_vals), cols=1, shared_xaxes='all', shared_yaxes='all')\n",
    "dfq = df\n",
    "for i_row, row_name in enumerate(row_vals):\n",
    "    for i_l2, k_l2 in enumerate(k_l2_vals):\n",
    "        df_l2 = dfq[(dfq['k_l2'] == k_l2) & (dfq[row_ax] == row_name)]\n",
    "        lyap_err = torch.stack(list(df_l2['MAE Lyapunov']))\n",
    "        t_lyap = torch.zeros_like(lyap_err)\n",
    "        for i in range(t_lyap.shape[-1]):\n",
    "            t_lyap[..., i] = i + 1\n",
    "        fig.add_box(\n",
    "            x=t_lyap.flatten(),\n",
    "            y=lyap_err.flatten(),\n",
    "            name=f'k_l2={k_l2:.4f}',\n",
    "            row=i_row+1, col=1,\n",
    "            legendgroup=f'k_l2={k_l2:.4f}',\n",
    "            offsetgroup=f'k_l2={k_l2:.4f}',\n",
    "            marker_color=c[i_l2],\n",
    "            showlegend=i_row==0,\n",
    "            # boxpoints='all'\n",
    "        )\n",
    "    fig.update_yaxes(title_text=f'MAE n_neurons={row_name}', range=[0, 2], row=i_row+1)\n",
    "fig.update_xaxes(title_text='Lyapunov time', row=len(row_vals), dtick=1)\n",
    "fig.update_layout(boxmode='group', height=1000)"
   ]
  },
  {
   "cell_type": "code",
   "execution_count": null,
   "metadata": {},
   "outputs": [],
   "source": [
    "dfq = df.query('source==\"rossler\"')\n",
    "dfq"
   ]
  },
  {
   "cell_type": "code",
   "execution_count": null,
   "metadata": {},
   "outputs": [],
   "source": [
    "dfq.iloc[2]['MAE Lyapunov'].mean(axis=0)[:5]"
   ]
  },
  {
   "cell_type": "code",
   "execution_count": null,
   "metadata": {},
   "outputs": [],
   "source": [
    "fig = pio.read_json(dfq.iloc[2]['_fig_path'])\n",
    "fig.update_layout(template='plotly_white', height=800)"
   ]
  },
  {
   "cell_type": "code",
   "execution_count": null,
   "metadata": {},
   "outputs": [],
   "source": [
    "hidden_layers = [6, 10, 6]\n",
    "lorenz = utils.SweepEnKF(\n",
    "    'lorenz', \n",
    "    'activation_function', \n",
    "    ['ELU'] * 8,\n",
    "    train_sweep=False,\n",
    "    noise=NOISE,\n",
    "    hidden_layers=hidden_layers,\n",
    "    train_kwargs={'lr_hold': 10, 'subseq_len': 50},\n",
    ")\n",
    "lorenz.train(100)"
   ]
  },
  {
   "cell_type": "code",
   "execution_count": null,
   "metadata": {},
   "outputs": [],
   "source": [
    "lorenz.plot_test(3)"
   ]
  },
  {
   "cell_type": "code",
   "execution_count": null,
   "metadata": {},
   "outputs": [],
   "source": [
    "rossler = utils.SweepEnKF(\n",
    "    'rossler', \n",
    "    'activation_function', \n",
    "    ['ELU'] * 8,\n",
    "    train_sweep=False,\n",
    "    noise=NOISE,\n",
    "    hidden_layers=hidden_layers,\n",
    "    train_kwargs={'lr_hold': 10, 'subseq_len': 50},\n",
    ")\n",
    "rossler.train(100)"
   ]
  },
  {
   "cell_type": "code",
   "execution_count": null,
   "metadata": {},
   "outputs": [],
   "source": [
    "rossler.plot_test(1)"
   ]
  },
  {
   "cell_type": "code",
   "execution_count": null,
   "metadata": {},
   "outputs": [],
   "source": [
    "with torch.no_grad():\n",
    "    mae_rossler = [rossler.enkf_err(i)[5] for i in range(8)]\n",
    "    err_rossler = torch.stack(mae_rossler)\n",
    "err_rossler.mean(axis=0)[:5]"
   ]
  },
  {
   "cell_type": "code",
   "execution_count": null,
   "metadata": {},
   "outputs": [],
   "source": [
    "with torch.no_grad():\n",
    "    mae_lorenz = [lorenz.enkf_err(i)[5] for i in range(8)]\n",
    "    err_lorenz = torch.stack(mae_lorenz)\n",
    "err_lorenz.mean(axis=0)[:5]"
   ]
  }
 ],
 "metadata": {
  "kernelspec": {
   "display_name": "Python 3.9.6 64-bit",
   "language": "python",
   "name": "python3"
  },
  "language_info": {
   "codemirror_mode": {
    "name": "ipython",
    "version": 3
   },
   "file_extension": ".py",
   "mimetype": "text/x-python",
   "name": "python",
   "nbconvert_exporter": "python",
   "pygments_lexer": "ipython3",
   "version": "3.9.6"
  },
  "orig_nbformat": 4,
  "vscode": {
   "interpreter": {
    "hash": "57ab650755106788127778ca676b1d597fe3fd74372f745f5eeb1dc0c5eefa13"
   }
  }
 },
 "nbformat": 4,
 "nbformat_minor": 2
}
