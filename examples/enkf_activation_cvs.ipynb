{
 "cells": [
  {
   "cell_type": "code",
   "execution_count": null,
   "metadata": {},
   "outputs": [],
   "source": [
    "import torch\n",
    "import plotly.io as pio\n",
    "\n",
    "from time_series_prediction import settings, utils\n",
    "from biophysical_models import models\n",
    "\n",
    "pio.templates.default = 'plotly_white'"
   ]
  },
  {
   "cell_type": "code",
   "execution_count": null,
   "metadata": {},
   "outputs": [],
   "source": [
    "# settings.switch_device('cuda')\n",
    "settings.device == torch.device('cpu')"
   ]
  },
  {
   "cell_type": "code",
   "execution_count": null,
   "metadata": {},
   "outputs": [],
   "source": [
    "hidden_layers = [6, 10, 6]"
   ]
  },
  {
   "cell_type": "code",
   "execution_count": null,
   "metadata": {},
   "outputs": [],
   "source": [
    "cvs = utils.SweepEnKF(\n",
    "    'cvs', \n",
    "    'activation_function', \n",
    "    ['ReLU', 'ReLU', 'ELU', 'ELU', 'Tanh', 'Tanh'], \n",
    "    train_sweep=False,\n",
    "    noise=5e-2,\n",
    "    hidden_layers=hidden_layers,\n",
    "    train_kwargs={'lr_hold': 10, 'subseq_len': 50},\n",
    "    n_train=2000,\n",
    "    n_test=400,\n",
    "    n_warmup=200,\n",
    ")"
   ]
  },
  {
   "cell_type": "code",
   "execution_count": null,
   "metadata": {},
   "outputs": [],
   "source": [
    "cvs.train(200, [0, 1, 2, 3])"
   ]
  },
  {
   "cell_type": "code",
   "execution_count": null,
   "metadata": {},
   "outputs": [],
   "source": [
    "fig = cvs.plot_test(3).update_layout(\n",
    "    height=1000\n",
    ")\n",
    "for i, name in enumerate(models.SmithCardioVascularSystem.state_names):\n",
    "    fig.update_yaxes(title_text=name, row=i+1, col=1)\n",
    "fig.update_traces(showlegend=False)"
   ]
  },
  {
   "cell_type": "code",
   "execution_count": null,
   "metadata": {},
   "outputs": [],
   "source": [
    "cvs_i = utils.SweepEnKF(\n",
    "    'inertial_cvs', \n",
    "    'activation_function', \n",
    "    ['ReLU', 'ReLU', 'ELU', 'ELU', 'Tanh', 'Tanh'], \n",
    "    train_sweep=False,\n",
    "    noise=5e-2,\n",
    "    hidden_layers=hidden_layers,\n",
    "    train_kwargs={'lr_hold': 10, 'subseq_len': 50},\n",
    "    n_train=2000,\n",
    "    n_test=400,\n",
    "    n_warmup=200,\n",
    ")"
   ]
  },
  {
   "cell_type": "code",
   "execution_count": null,
   "metadata": {},
   "outputs": [],
   "source": [
    "cvs_i.train(200, [0, 1, 2, 3])"
   ]
  },
  {
   "cell_type": "code",
   "execution_count": null,
   "metadata": {},
   "outputs": [],
   "source": [
    "fig = cvs_i.plot_test(2).update_layout(\n",
    "    height=1400\n",
    ")\n",
    "for i, name in enumerate(models.InertialSmithCVS.state_names):\n",
    "    fig.update_yaxes(title_text=name, row=i+1, col=1)\n",
    "fig.update_traces(showlegend=False)"
   ]
  }
 ],
 "metadata": {
  "interpreter": {
   "hash": "57ab650755106788127778ca676b1d597fe3fd74372f745f5eeb1dc0c5eefa13"
  },
  "kernelspec": {
   "display_name": "Python 3.9.6 64-bit",
   "language": "python",
   "name": "python3"
  },
  "language_info": {
   "codemirror_mode": {
    "name": "ipython",
    "version": 3
   },
   "file_extension": ".py",
   "mimetype": "text/x-python",
   "name": "python",
   "nbconvert_exporter": "python",
   "pygments_lexer": "ipython3",
   "version": "3.9.6"
  },
  "orig_nbformat": 4
 },
 "nbformat": 4,
 "nbformat_minor": 2
}
