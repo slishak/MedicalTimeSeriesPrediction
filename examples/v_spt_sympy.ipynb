{
 "cells": [
  {
   "cell_type": "markdown",
   "metadata": {},
   "source": [
    "## Septum volume linearisation\n",
    "\n",
    "Rough notebook to work out the full form of Jallon's linearisation of $V_{spt}$. Monkey-patches PressureVolume to work with SymPy instead of PyTorch"
   ]
  },
  {
   "cell_type": "code",
   "execution_count": 1,
   "metadata": {},
   "outputs": [],
   "source": [
    "import sympy as sp\n",
    "\n",
    "v_spt, v_lv, v_rv, e_t = sp.symbols('v_spt v_lv v_rv e_t')"
   ]
  },
  {
   "cell_type": "code",
   "execution_count": 2,
   "metadata": {},
   "outputs": [],
   "source": [
    "from biophysical_models import base_classes\n",
    "\n",
    "base_classes.torch = sp\n",
    "\n",
    "class PressureVolume(base_classes.PressureVolume):\n",
    "    def __init__(self, name: str):\n",
    "        self.e_es, self.v_d, self.v_0, self.lam, self.p_0 = sp.symbols(f'{name}.e_es {name}.v_d {name}.v_0 {name}.lam {name}.p_0')\n",
    "\n",
    "spt = PressureVolume('spt')\n",
    "lvf = PressureVolume('lvf')\n",
    "rvf = PressureVolume('rvf')"
   ]
  },
  {
   "cell_type": "code",
   "execution_count": 3,
   "metadata": {},
   "outputs": [],
   "source": [
    "v_lvf = v_lv - v_spt\n",
    "v_rvf = v_rv + v_spt\n",
    "\n",
    "p_lvf = e_t * lvf.p_es(v_lvf) + (1 - e_t) * lvf.p_ed_linear(v_lvf)\n",
    "p_rvf = e_t * rvf.p_es(v_rvf) + (1 - e_t) * rvf.p_ed_linear(v_rvf)\n",
    "p_spt = e_t * spt.p_es(v_spt) + (1 - e_t) * spt.p_ed_linear(v_spt)\n",
    "\n",
    "p_spt_rhs = p_lvf - p_rvf\n"
   ]
  },
  {
   "cell_type": "code",
   "execution_count": 4,
   "metadata": {},
   "outputs": [
    {
     "data": {
      "text/latex": [
       "$\\displaystyle e_{t} spt.e_{es} \\left(spt.v_{d} - v_{spt}\\right) - spt.lam spt.p_{0} \\left(e_{t} - 1\\right) \\left(spt.v_{0} - v_{spt}\\right) = e_{t} lvf.e_{es} \\left(lvf.v_{d} - v_{lv} + v_{spt}\\right) + e_{t} rvf.e_{es} \\left(- rvf.v_{d} + v_{rv} + v_{spt}\\right) - lvf.lam lvf.p_{0} \\left(e_{t} - 1\\right) \\left(lvf.v_{0} - v_{lv} + v_{spt}\\right) - rvf.lam rvf.p_{0} \\left(e_{t} - 1\\right) \\left(- rvf.v_{0} + v_{rv} + v_{spt}\\right)$"
      ],
      "text/plain": [
       "Eq(e_t*spt.e_es*(spt.v_d - v_spt) - spt.lam*spt.p_0*(e_t - 1)*(spt.v_0 - v_spt), e_t*lvf.e_es*(lvf.v_d - v_lv + v_spt) + e_t*rvf.e_es*(-rvf.v_d + v_rv + v_spt) - lvf.lam*lvf.p_0*(e_t - 1)*(lvf.v_0 - v_lv + v_spt) - rvf.lam*rvf.p_0*(e_t - 1)*(-rvf.v_0 + v_rv + v_spt))"
      ]
     },
     "execution_count": 4,
     "metadata": {},
     "output_type": "execute_result"
    }
   ],
   "source": [
    "eq = sp.Eq(p_spt, p_spt_rhs)\n",
    "eq.simplify()"
   ]
  },
  {
   "cell_type": "markdown",
   "metadata": {},
   "source": [
    "Solve for $V_{spt}$ using SymPy:"
   ]
  },
  {
   "cell_type": "code",
   "execution_count": 5,
   "metadata": {},
   "outputs": [
    {
     "data": {
      "text/latex": [
       "$\\displaystyle \\frac{- e_{t} lvf.e_{es} lvf.v_{d} + e_{t} lvf.e_{es} v_{lv} + e_{t} lvf.lam lvf.p_{0} lvf.v_{0} - e_{t} lvf.lam lvf.p_{0} v_{lv} + e_{t} rvf.e_{es} rvf.v_{d} - e_{t} rvf.e_{es} v_{rv} - e_{t} rvf.lam rvf.p_{0} rvf.v_{0} + e_{t} rvf.lam rvf.p_{0} v_{rv} + e_{t} spt.e_{es} spt.v_{d} - e_{t} spt.lam spt.p_{0} spt.v_{0} - lvf.lam lvf.p_{0} lvf.v_{0} + lvf.lam lvf.p_{0} v_{lv} + rvf.lam rvf.p_{0} rvf.v_{0} - rvf.lam rvf.p_{0} v_{rv} + spt.lam spt.p_{0} spt.v_{0}}{e_{t} lvf.e_{es} - e_{t} lvf.lam lvf.p_{0} + e_{t} rvf.e_{es} - e_{t} rvf.lam rvf.p_{0} + e_{t} spt.e_{es} - e_{t} spt.lam spt.p_{0} + lvf.lam lvf.p_{0} + rvf.lam rvf.p_{0} + spt.lam spt.p_{0}}$"
      ],
      "text/plain": [
       "(-e_t*lvf.e_es*lvf.v_d + e_t*lvf.e_es*v_lv + e_t*lvf.lam*lvf.p_0*lvf.v_0 - e_t*lvf.lam*lvf.p_0*v_lv + e_t*rvf.e_es*rvf.v_d - e_t*rvf.e_es*v_rv - e_t*rvf.lam*rvf.p_0*rvf.v_0 + e_t*rvf.lam*rvf.p_0*v_rv + e_t*spt.e_es*spt.v_d - e_t*spt.lam*spt.p_0*spt.v_0 - lvf.lam*lvf.p_0*lvf.v_0 + lvf.lam*lvf.p_0*v_lv + rvf.lam*rvf.p_0*rvf.v_0 - rvf.lam*rvf.p_0*v_rv + spt.lam*spt.p_0*spt.v_0)/(e_t*lvf.e_es - e_t*lvf.lam*lvf.p_0 + e_t*rvf.e_es - e_t*rvf.lam*rvf.p_0 + e_t*spt.e_es - e_t*spt.lam*spt.p_0 + lvf.lam*lvf.p_0 + rvf.lam*rvf.p_0 + spt.lam*spt.p_0)"
      ]
     },
     "execution_count": 5,
     "metadata": {},
     "output_type": "execute_result"
    }
   ],
   "source": [
    "sol = sp.solve(eq, v_spt)[0]\n",
    "sol"
   ]
  },
  {
   "cell_type": "markdown",
   "metadata": {},
   "source": [
    "Try and simplify it a bit:"
   ]
  },
  {
   "cell_type": "code",
   "execution_count": 6,
   "metadata": {},
   "outputs": [
    {
     "data": {
      "text/latex": [
       "$\\displaystyle \\frac{- e_{t} lvf.e_{es} lvf.v_{d} + e_{t} lvf.e_{es} v_{lv} + e_{t} rvf.e_{es} rvf.v_{d} - e_{t} rvf.e_{es} v_{rv} + e_{t} spt.e_{es} spt.v_{d} + lvf.lam lvf.p_{0} lvf.v_{0} \\left(e_{t} - 1\\right) + lvf.lam lvf.p_{0} v_{lv} \\left(1 - e_{t}\\right) + rvf.lam rvf.p_{0} rvf.v_{0} \\cdot \\left(1 - e_{t}\\right) + rvf.lam rvf.p_{0} v_{rv} \\left(e_{t} - 1\\right) + spt.lam spt.p_{0} spt.v_{0} \\cdot \\left(1 - e_{t}\\right)}{e_{t} lvf.e_{es} + e_{t} rvf.e_{es} + e_{t} spt.e_{es} + lvf.lam lvf.p_{0} \\cdot \\left(1 - e_{t}\\right) + rvf.lam rvf.p_{0} \\cdot \\left(1 - e_{t}\\right) + spt.lam spt.p_{0} \\cdot \\left(1 - e_{t}\\right)}$"
      ],
      "text/plain": [
       "(-e_t*lvf.e_es*lvf.v_d + e_t*lvf.e_es*v_lv + e_t*rvf.e_es*rvf.v_d - e_t*rvf.e_es*v_rv + e_t*spt.e_es*spt.v_d + lvf.lam*lvf.p_0*lvf.v_0*(e_t - 1) + lvf.lam*lvf.p_0*v_lv*(1 - e_t) + rvf.lam*rvf.p_0*rvf.v_0*(1 - e_t) + rvf.lam*rvf.p_0*v_rv*(e_t - 1) + spt.lam*spt.p_0*spt.v_0*(1 - e_t))/(e_t*lvf.e_es + e_t*rvf.e_es + e_t*spt.e_es + lvf.lam*lvf.p_0*(1 - e_t) + rvf.lam*rvf.p_0*(1 - e_t) + spt.lam*spt.p_0*(1 - e_t))"
      ]
     },
     "execution_count": 6,
     "metadata": {},
     "output_type": "execute_result"
    }
   ],
   "source": [
    "sol.factor(lvf.e_es, lvf.p_0, lvf.lam, lvf.v_0, rvf.e_es, rvf.p_0, rvf.lam, rvf.v_0, spt.e_es, spt.p_0, spt.lam, spt.v_0, v_lv, v_rv)"
   ]
  },
  {
   "cell_type": "markdown",
   "metadata": {},
   "source": [
    "Manually simplify instead:"
   ]
  },
  {
   "cell_type": "code",
   "execution_count": 7,
   "metadata": {},
   "outputs": [],
   "source": [
    "num = e_t * (lvf.p_es(v_lv) - rvf.p_es(v_rv) + spt.e_es * spt.v_d) + (1 - e_t) * (lvf.p_ed_linear(v_lv) - rvf.p_ed_linear(v_rv) + spt.lam * spt.p_0 * spt.v_0)\n",
    "den = e_t * (lvf.e_es + rvf.e_es + spt.e_es) + (1 - e_t) * (lvf.lam * lvf.p_0 + rvf.lam * rvf.p_0 + spt.lam * spt.p_0)\n",
    "sol2 = num/den"
   ]
  },
  {
   "cell_type": "markdown",
   "metadata": {},
   "source": [
    "Check that the proposed form of the solution is equal to SymPy's solution:"
   ]
  },
  {
   "cell_type": "code",
   "execution_count": 8,
   "metadata": {},
   "outputs": [
    {
     "data": {
      "text/latex": [
       "$\\displaystyle 0$"
      ],
      "text/plain": [
       "0"
      ]
     },
     "execution_count": 8,
     "metadata": {},
     "output_type": "execute_result"
    }
   ],
   "source": [
    "sp.simplify(sol - sol2)"
   ]
  }
 ],
 "metadata": {
  "kernelspec": {
   "display_name": "Python 3.9.6 64-bit",
   "language": "python",
   "name": "python3"
  },
  "language_info": {
   "codemirror_mode": {
    "name": "ipython",
    "version": 3
   },
   "file_extension": ".py",
   "mimetype": "text/x-python",
   "name": "python",
   "nbconvert_exporter": "python",
   "pygments_lexer": "ipython3",
   "version": "3.9.6"
  },
  "orig_nbformat": 4,
  "vscode": {
   "interpreter": {
    "hash": "57ab650755106788127778ca676b1d597fe3fd74372f745f5eeb1dc0c5eefa13"
   }
  }
 },
 "nbformat": 4,
 "nbformat_minor": 2
}
