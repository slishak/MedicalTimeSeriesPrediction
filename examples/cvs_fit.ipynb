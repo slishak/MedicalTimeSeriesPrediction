{
 "cells": [
  {
   "cell_type": "code",
   "execution_count": null,
   "metadata": {},
   "outputs": [],
   "source": [
    "import matplotlib.pyplot as plt\n",
    "import torch\n",
    "from plotly.subplots import make_subplots\n",
    "\n",
    "import cvs_fit\n",
    "from biophysical_models import models\n",
    "from time_series_prediction import settings"
   ]
  },
  {
   "cell_type": "code",
   "execution_count": null,
   "metadata": {},
   "outputs": [],
   "source": [
    "import plotly.io as pio\n",
    "pio.templates.default = 'plotly_white'"
   ]
  },
  {
   "cell_type": "code",
   "execution_count": null,
   "metadata": {},
   "outputs": [],
   "source": [
    "# settings.switch_device('cuda')"
   ]
  },
  {
   "cell_type": "code",
   "execution_count": null,
   "metadata": {},
   "outputs": [],
   "source": [
    "cvs_cls = models.add_bp_metrics(models.SmithCardioVascularSystem)\n",
    "y, obs_matrix, cvs = cvs_fit.load_data(cvs_cls)"
   ]
  },
  {
   "cell_type": "code",
   "execution_count": null,
   "metadata": {},
   "outputs": [],
   "source": [
    "for param in cvs.parameters():\n",
    "    param.requires_grad_(False)\n",
    "cvs.v_tot.requires_grad_(True)\n",
    "cvs.mt.r.requires_grad_(True)\n",
    "cvs.tc.r.requires_grad_(True)\n",
    "cvs.av.r.requires_grad_(True)\n",
    "cvs.pv.r.requires_grad_(True)\n",
    "cvs.pul.r.requires_grad_(True)\n",
    "cvs.sys.r.requires_grad_(True)\n",
    "cvs.vc.e_es.requires_grad_(True)\n",
    "cvs.pa.e_es.requires_grad_(True)\n",
    "cvs.pu.e_es.requires_grad_(True)\n",
    "cvs.ao.e_es.requires_grad_(True)\n",
    "cvs.lvf.e_es.requires_grad_(True)\n",
    "cvs.rvf.e_es.requires_grad_(True)\n",
    "cvs.lvf.p_0.requires_grad_(True)\n",
    "cvs.rvf.p_0.requires_grad_(True)"
   ]
  },
  {
   "cell_type": "code",
   "execution_count": null,
   "metadata": {},
   "outputs": [],
   "source": [
    "kf = cvs_fit.get_enkf(\n",
    "    obs_matrix, \n",
    "    cvs, \n",
    "    n_particles=100, \n",
    "    obs_noise=5, \n",
    "    init_proc_noise=1e-5, \n",
    "    # atol=1e-9, \n",
    "    max_step=1e-2,\n",
    ")"
   ]
  },
  {
   "cell_type": "code",
   "execution_count": null,
   "metadata": {},
   "outputs": [],
   "source": [
    "t = torch.linspace(0, 500, 500)\n",
    "hr = [cvs.e.f_hr(x) for x in t]\n",
    "plt.plot(t, hr)"
   ]
  },
  {
   "cell_type": "code",
   "execution_count": null,
   "metadata": {},
   "outputs": [],
   "source": [
    "plt.plot(y[1:500, :])"
   ]
  },
  {
   "cell_type": "code",
   "execution_count": null,
   "metadata": {},
   "outputs": [],
   "source": [
    "kf.train(y[1:500, :], 20, dt=1, subseq_len=20, print_timing=True, lr_alpha=1e-1, lr_beta=1e-3, save_checkpoints='step', auto_scale_lr=True)"
   ]
  },
  {
   "cell_type": "code",
   "execution_count": null,
   "metadata": {},
   "outputs": [],
   "source": [
    "kf._fig.update_layout(template='plotly_white').show()"
   ]
  },
  {
   "cell_type": "code",
   "execution_count": null,
   "metadata": {},
   "outputs": [],
   "source": [
    "with torch.no_grad():\n",
    "    cvs.save_traj = True\n",
    "    cvs.verbose = True\n",
    "    t_sol, sol = cvs.simulate(500, 50)"
   ]
  },
  {
   "cell_type": "code",
   "execution_count": null,
   "metadata": {},
   "outputs": [],
   "source": [
    "d1 = models.SmithCardioVascularSystem().state_dict()\n",
    "d2 = kf.transition_function.state_dict()\n",
    "for key in d1:\n",
    "    try:\n",
    "        diff = d2[key]-d1[key]\n",
    "    except RuntimeError:\n",
    "        continue\n",
    "    if diff == 0:\n",
    "        continue\n",
    "    print(f'{key:25s} {d1[key]:12.3f} {d2[key]:12.3f} {diff:12.3f}')"
   ]
  },
  {
   "cell_type": "code",
   "execution_count": null,
   "metadata": {},
   "outputs": [],
   "source": [
    "torch.save(cvs.state_dict(), 'params20.to')"
   ]
  },
  {
   "cell_type": "code",
   "execution_count": null,
   "metadata": {},
   "outputs": [],
   "source": [
    "fig = make_subplots(5, 1, shared_xaxes=True)\n",
    "fig.add_scatter(\n",
    "    y=[x['model_state_dict']['v_tot'] for x in kf.checkpoints],\n",
    "    name='v_tot',\n",
    "    row=1, col=1,\n",
    ")\n",
    "fig.update_yaxes(title_text='v_tot', row=1)\n",
    "\n",
    "for name in [\n",
    "    'mt.r',\n",
    "    'tc.r',\n",
    "    'av.r',\n",
    "    'pv.r',\n",
    "]:\n",
    "    fig.add_scatter(\n",
    "        y=[x['model_state_dict'][name] for x in kf.checkpoints],\n",
    "        name=name,\n",
    "        row=2, col=1,\n",
    "    )\n",
    "fig.update_yaxes(title_text='Valve resistances', row=2)\n",
    "\n",
    "for name in [\n",
    "    'pul.r',\n",
    "    'sys.r',\n",
    "]:\n",
    "    fig.add_scatter(\n",
    "        y=[x['model_state_dict'][name] for x in kf.checkpoints],\n",
    "        name=name,\n",
    "        row=3, col=1,\n",
    "    )\n",
    "fig.update_yaxes(title_text='Circulation resistances', row=3)\n",
    "\n",
    "for name in [\n",
    "    'vc.e_es',\n",
    "    'pa.e_es',\n",
    "    'pu.e_es',\n",
    "    'ao.e_es',\n",
    "    'lvf.e_es',\n",
    "    'rvf.e_es',\n",
    "]:\n",
    "    fig.add_scatter(\n",
    "        y=[x['model_state_dict'][name] for x in kf.checkpoints],\n",
    "        name=name,\n",
    "        row=4, col=1,\n",
    "    )\n",
    "fig.update_yaxes(title_text='e_es', row=4)\n",
    "\n",
    "for name in [\n",
    "    'lvf.p_0',\n",
    "    'rvf.p_0',\n",
    "]:\n",
    "    fig.add_scatter(\n",
    "        y=[x['model_state_dict'][name] for x in kf.checkpoints],\n",
    "        name=name,\n",
    "        row=5, col=1,\n",
    "    )\n",
    "fig.update_yaxes(title_text='p_0', row=5)\n",
    "\n",
    "for i in range(24, len(kf.checkpoints), 25):\n",
    "    fig.add_vline(i, line_color='black', line_dash='dot')\n",
    "fig.update_xaxes(row=5, title_text='Training iterations (epochs marked with dotted lines)')\n",
    "fig.update_layout(height=800)"
   ]
  }
 ],
 "metadata": {
  "kernelspec": {
   "display_name": "Python 3.9.6 64-bit",
   "language": "python",
   "name": "python3"
  },
  "language_info": {
   "codemirror_mode": {
    "name": "ipython",
    "version": 3
   },
   "file_extension": ".py",
   "mimetype": "text/x-python",
   "name": "python",
   "nbconvert_exporter": "python",
   "pygments_lexer": "ipython3",
   "version": "3.9.6"
  },
  "orig_nbformat": 4,
  "vscode": {
   "interpreter": {
    "hash": "57ab650755106788127778ca676b1d597fe3fd74372f745f5eeb1dc0c5eefa13"
   }
  }
 },
 "nbformat": 4,
 "nbformat_minor": 2
}
