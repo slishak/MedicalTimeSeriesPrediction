{
 "cells": [
  {
   "cell_type": "code",
   "execution_count": null,
   "metadata": {},
   "outputs": [],
   "source": [
    "from itertools import product\n",
    "\n",
    "import torch\n",
    "import plotly.io as pio\n",
    "import plotly.express as px\n",
    "import pandas as pd\n",
    "import numpy as np\n",
    "from dask.distributed import Client\n",
    "\n",
    "from time_series_prediction import settings, utils\n",
    "\n",
    "pio.templates.default = 'plotly_white'"
   ]
  },
  {
   "cell_type": "code",
   "execution_count": null,
   "metadata": {},
   "outputs": [],
   "source": [
    "# settings.switch_device('cuda')\n",
    "settings.device == torch.device('cpu')"
   ]
  },
  {
   "cell_type": "code",
   "execution_count": null,
   "metadata": {},
   "outputs": [],
   "source": [
    "params = [\n",
    "    ('leaking_rate', [0.02, 0.1, 0.3, 0.5, 0.7, 0.9, 1]),\n",
    "    ('k_l2', 10**torch.linspace(-0.5, -2.5, 5)),\n",
    "    ('n_neurons', [200, 400, 800, 1000, 1200]),\n",
    "    ('source', ['vdp', 'rossler', 'lorenz'])\n",
    "]\n",
    "# params = [\n",
    "#     ('k_l2', 10**torch.linspace(-0.5, -2.5, 5)),\n",
    "#     ('source', ['rossler', 'vdp'])\n",
    "# ]\n",
    "keys, vals = zip(*params)\n",
    "param_dicts = []\n",
    "for val in product(*vals):\n",
    "    param_dicts.append({k: v for k, v in zip(keys, val)})\n",
    "print(f'{len(param_dicts)} simulations')"
   ]
  },
  {
   "cell_type": "code",
   "execution_count": null,
   "metadata": {},
   "outputs": [],
   "source": [
    "n_ensemble = 15\n",
    "\n",
    "kwargs_default = {\n",
    "    'spectral_radius': 0.99,\n",
    "    # 'n_neurons': 200,\n",
    "}\n",
    "\n",
    "sweep = utils.SweepESN(\n",
    "    param_dicts,\n",
    "    kwargs_default,\n",
    "    n_ensemble,\n",
    "    noise=5e-2,\n",
    ")"
   ]
  },
  {
   "cell_type": "code",
   "execution_count": null,
   "metadata": {},
   "outputs": [],
   "source": [
    "client = Client(n_workers=12, threads_per_worker=1)"
   ]
  },
  {
   "cell_type": "code",
   "execution_count": null,
   "metadata": {},
   "outputs": [],
   "source": [
    "sweep.submit_jobs(client)"
   ]
  },
  {
   "cell_type": "code",
   "execution_count": null,
   "metadata": {},
   "outputs": [],
   "source": [
    "res = sweep.get_results()"
   ]
  },
  {
   "cell_type": "code",
   "execution_count": null,
   "metadata": {},
   "outputs": [],
   "source": [
    "client.shutdown()"
   ]
  },
  {
   "cell_type": "code",
   "execution_count": null,
   "metadata": {},
   "outputs": [],
   "source": [
    "df = pd.DataFrame(res)\n",
    "df"
   ]
  },
  {
   "cell_type": "code",
   "execution_count": null,
   "metadata": {},
   "outputs": [],
   "source": [
    "df.to_pickle('esn_sweep_lyap_2.pkl')"
   ]
  },
  {
   "cell_type": "code",
   "execution_count": null,
   "metadata": {},
   "outputs": [],
   "source": [
    "df = pd.read_pickle('esn_sweep_lyap_2.pkl')"
   ]
  },
  {
   "cell_type": "code",
   "execution_count": null,
   "metadata": {},
   "outputs": [],
   "source": [
    "for i in range(10):\n",
    "    err = f'Lyapunov {i}'\n",
    "    df[f'MSE {err}'] = df['MSE Lyapunov'].apply(lambda x: x[:, i] if x is not None else x)\n",
    "    df[f'MAE {err}'] = df['MAE Lyapunov'].apply(lambda x: x[:, i] if x is not None else x)\n",
    "    df[f'Mean MSE {err}'] = df[f'MSE {err}'].apply(lambda x: x.mean() if x is not None else x)\n",
    "    df[f'Mean MAE {err}'] = df[f'MAE {err}'].apply(lambda x: x.mean() if x is not None else x)\n",
    "    df[f'Max MSE {err}'] = df[f'MSE {err}'].apply(lambda x: x.max() if x is not None else x)\n",
    "    df[f'Max MAE {err}'] = df[f'MAE {err}'].apply(lambda x: x.max() if x is not None else x)\n",
    "    df[f'Min MSE {err}'] = df[f'MSE {err}'].apply(lambda x: x.min() if x is not None else x)\n",
    "    df[f'Min MAE {err}'] = df[f'MAE {err}'].apply(lambda x: x.min() if x is not None else x)"
   ]
  },
  {
   "cell_type": "code",
   "execution_count": null,
   "metadata": {},
   "outputs": [],
   "source": [
    "row = df.query('source==\"rossler\" & leaking_rate==0.1 & k_l2==0.01 & n_neurons==1000').sort_values(by='Mean MAE Lyapunov 0').iloc[0]\n",
    "print(row[[x for x in df.columns if 'MAE' not in x and 'MSE' not in x]])\n",
    "print(row['Mean MAE Lyapunov 0'])\n",
    "print(row['Mean MAE Lyapunov 1'])\n",
    "print(row['Mean MAE Lyapunov 2'])\n",
    "print(row['Mean MAE Lyapunov 3'])\n",
    "fig = pio.read_json(row['_fig_path'])\n",
    "fig.update_layout(\n",
    "    template='plotly_white', \n",
    "    height=800, \n",
    "    yaxis1_title_text='x', \n",
    "    yaxis2_title_text='y', \n",
    "    yaxis3_title_text='z', \n",
    "    xaxis5_title_text='t',\n",
    ")"
   ]
  },
  {
   "cell_type": "code",
   "execution_count": null,
   "metadata": {},
   "outputs": [],
   "source": [
    "row = df.query('source==\"vdp\" & leaking_rate==0.5 & k_l2==0.1 & n_neurons==400').sort_values(by='Mean MAE').iloc[0]\n",
    "print(row[[x for x in df.columns if 'MAE' not in x and 'MSE' not in x]])\n",
    "print(row['Mean MAE Lyapunov 0'])\n",
    "print(row['Mean MAE Lyapunov 1'])\n",
    "print(row['Mean MAE Lyapunov 2'])\n",
    "print(row['Mean MAE Lyapunov 3'])\n",
    "fig = pio.read_json(row['_fig_path'])\n",
    "fig.update_layout(\n",
    "    template='plotly_white', height=800, yaxis_title_text=r'$\\frac{dx}{dt}$', yaxis3_title_text='x', xaxis5_title_text='t').write_html(\n",
    "        'esn_vdp_best.html', include_mathjax='cdn')"
   ]
  },
  {
   "cell_type": "code",
   "execution_count": null,
   "metadata": {},
   "outputs": [],
   "source": [
    "len(list(fig.select_traces({'line_color': 'black', 'legendgroup': 'Test'})))"
   ]
  },
  {
   "cell_type": "code",
   "execution_count": null,
   "metadata": {},
   "outputs": [],
   "source": [
    "from plotly.subplots import make_subplots\n",
    "from plotly import colors\n",
    "k_l2_vals = np.sort(df['k_l2'].unique())\n",
    "c = colors.sample_colorscale(\n",
    "    colors.get_colorscale('Plasma'),\n",
    "    np.linspace(0, 0.9, len(k_l2_vals)),\n",
    ")\n",
    "n_neuron_vals = df['n_neurons'].unique()\n",
    "fig = make_subplots(rows=len(n_neuron_vals), cols=1, shared_xaxes='all', shared_yaxes='all')\n",
    "source = 'lorenz'\n",
    "dfq = df.query(f'source==\"{source}\" & leaking_rate==0.1')\n",
    "for i_neur, n_neur in enumerate(n_neuron_vals):\n",
    "    for i_l2, k_l2 in enumerate(k_l2_vals):\n",
    "        df_l2 = dfq[(dfq['k_l2'] == k_l2) & (dfq['n_neurons'] == n_neur)]\n",
    "        lyap_err = torch.stack(list(df_l2['MAE Lyapunov']))\n",
    "        t_lyap = torch.zeros_like(lyap_err)\n",
    "        for i in range(t_lyap.shape[-1]):\n",
    "            t_lyap[..., i] = i + 1\n",
    "        fig.add_box(\n",
    "            x=t_lyap.flatten(),\n",
    "            y=lyap_err.flatten(),\n",
    "            name=f'k_l2={k_l2:.4f}',\n",
    "            row=i_neur+1, col=1,\n",
    "            legendgroup=f'k_l2={k_l2:.4f}',\n",
    "            offsetgroup=f'k_l2={k_l2:.4f}',\n",
    "            marker_color=c[i_l2],\n",
    "            showlegend=i_neur==0,\n",
    "            # boxpoints='all'\n",
    "        )\n",
    "    fig.update_yaxes(title_text=f'MAE n_neurons={n_neur}', range=[0, 2], row=i_neur+1)\n",
    "fig.update_xaxes(title_text='Lyapunov time', row=len(n_neuron_vals), dtick=1)\n",
    "fig.update_layout(boxmode='group', height=1000)"
   ]
  },
  {
   "cell_type": "code",
   "execution_count": null,
   "metadata": {},
   "outputs": [],
   "source": [
    "x = 'leaking_rate'\n",
    "color = 'n_neurons'\n",
    "err = ' Lyapunov 0'\n",
    "y = f'Mean MAE'\n",
    "max_y = f'Max MAE'\n",
    "min_y = f'Min MAE'\n",
    "\n",
    "dfq = df.query('source==\"vdp\"')\n",
    "\n",
    "fig = px.line(\n",
    "    dfq,\n",
    "    x=x,\n",
    "    y=y,\n",
    "    color=color,\n",
    "    facet_row='k_l2',\n",
    "    facet_col='source',\n",
    "    error_y=dfq[max_y] - dfq[y],\n",
    "    error_y_minus=dfq[y] - dfq[min_y],\n",
    "    # log_x=True,\n",
    "    # log_y=True,\n",
    "    # color_discrete_sequence=px.colors.sample_colorscale(\n",
    "    #     px.colors.get_colorscale('Plasma'), \n",
    "    #     np.linspace(0, 0.9, len(df[color].unique())),\n",
    "    # )\n",
    ")\n",
    "fig.update_traces(mode='markers+lines')\n",
    "fig.update_layout(height=800)"
   ]
  }
 ],
 "metadata": {
  "kernelspec": {
   "display_name": "Python 3.9.6 64-bit",
   "language": "python",
   "name": "python3"
  },
  "language_info": {
   "codemirror_mode": {
    "name": "ipython",
    "version": 3
   },
   "file_extension": ".py",
   "mimetype": "text/x-python",
   "name": "python",
   "nbconvert_exporter": "python",
   "pygments_lexer": "ipython3",
   "version": "3.9.6"
  },
  "orig_nbformat": 4,
  "vscode": {
   "interpreter": {
    "hash": "57ab650755106788127778ca676b1d597fe3fd74372f745f5eeb1dc0c5eefa13"
   }
  }
 },
 "nbformat": 4,
 "nbformat_minor": 2
}
